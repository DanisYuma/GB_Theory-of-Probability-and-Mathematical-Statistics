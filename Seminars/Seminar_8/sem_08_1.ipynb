{
 "cells": [
  {
   "cell_type": "code",
   "execution_count": 17,
   "id": "9ddbfc94",
   "metadata": {},
   "outputs": [],
   "source": [
    "# Провести двусторонний тест и ответить на вопрос, есть ли статистически значимые\n",
    "# различия между средними 2х нормально распределенных генеральных совокупностей,\n",
    "# представленных следующими независимыми выборками\n",
    "\n",
    "import numpy as np\n",
    "import matplotlib.pyplot as plt\n",
    "from scipy import stats"
   ]
  },
  {
   "cell_type": "code",
   "execution_count": 19,
   "id": "6487de10",
   "metadata": {},
   "outputs": [],
   "source": [
    "a = np.array([12, 10, 11, 19, 13, 11, 17, 15, 19, 14, 21, 18, 21, 11, 17, 14, 15, 17, 20, 19])\n",
    "b = np.array([11, 13, 18, 15, 17, 18, 10, 21, 26, 15, 11, 12, 15, 17, 10, 18, 18, 12,21, 20])\n"
   ]
  },
  {
   "cell_type": "code",
   "execution_count": 20,
   "id": "87558a68",
   "metadata": {},
   "outputs": [
    {
     "data": {
      "text/plain": [
       "Ttest_indResult(statistic=-0.1599663264228627, pvalue=0.8737549039369696)"
      ]
     },
     "execution_count": 20,
     "metadata": {},
     "output_type": "execute_result"
    }
   ],
   "source": [
    "stats.ttest_ind(a, b, equal_var=True)"
   ]
  },
  {
   "cell_type": "code",
   "execution_count": 21,
   "id": "780dcb65",
   "metadata": {},
   "outputs": [],
   "source": [
    "n = len(a)"
   ]
  },
  {
   "cell_type": "code",
   "execution_count": 22,
   "id": "0af3b831",
   "metadata": {},
   "outputs": [
    {
     "data": {
      "text/plain": [
       "2.022690911734728"
      ]
     },
     "execution_count": 22,
     "metadata": {},
     "output_type": "execute_result"
    }
   ],
   "source": [
    "stats.t.ppf(0.975, 2*n - 1)"
   ]
  },
  {
   "cell_type": "code",
   "execution_count": 23,
   "id": "3892635f",
   "metadata": {},
   "outputs": [
    {
     "data": {
      "text/plain": [
       "Ttest_indResult(statistic=-0.1599663264228627, pvalue=0.5631225480315152)"
      ]
     },
     "execution_count": 23,
     "metadata": {},
     "output_type": "execute_result"
    }
   ],
   "source": [
    "stats.ttest_ind(a, b,alternative='greater', equal_var = True)\n"
   ]
  },
  {
   "attachments": {},
   "cell_type": "markdown",
   "id": "7694d951",
   "metadata": {},
   "source": [
    "В группе 21 студент: 5 отличников, 10 хорошистов, 6 слабых. На предстоящем\n",
    "экзамене отлично могут получить только отличники, хорошисты с равной\n",
    "вероятностью могут получить хорошо и отлично, слабые –с одинаоквой\n",
    "вероятностью могут получить хорошо, удовлетворительно и неуд. На экзамен\n",
    "вызывается наугад 1 студент. Какова вероятность, что он получит хорошо или\n",
    "отлично"
   ]
  },
  {
   "cell_type": "code",
   "execution_count": 25,
   "id": "68f1ee62",
   "metadata": {},
   "outputs": [
    {
     "data": {
      "text/plain": [
       "0.8095238095238094"
      ]
     },
     "execution_count": 25,
     "metadata": {},
     "output_type": "execute_result"
    }
   ],
   "source": [
    "n = 21\n",
    "a = 5 / 21\n",
    "b = 10 / 21\n",
    "c = 6 / 21\n",
    "pa = 1\n",
    "pb = 1\n",
    "pc = 1 / 3\n",
    "a * pa + b * pb + c * pc"
   ]
  },
  {
   "attachments": {},
   "cell_type": "markdown",
   "id": "bf8e740f",
   "metadata": {},
   "source": [
    "Некоторое изделие выпускается 2мя заводами. При этом объем продукции 2го завода в 3 раза\n",
    "превосходит объем продукции 1го. Доля брака у 1го -2%, у 2го -1%. Изделие выпущено\n",
    "заводами за одинаковый промежуток времени. Изделия перемешали и отправили в продажу.\n",
    "Какова вероятность, что приобретенное изделие со 2го завода, если оно бракованное\n"
   ]
  },
  {
   "cell_type": "code",
   "execution_count": 27,
   "id": "79c47cd9",
   "metadata": {},
   "outputs": [
    {
     "data": {
      "text/plain": [
       "0.6"
      ]
     },
     "execution_count": 27,
     "metadata": {},
     "output_type": "execute_result"
    }
   ],
   "source": [
    "x = 0.25\n",
    "y = 0.75\n",
    "px = 0.02\n",
    "py = 0.01\n",
    "(py * y) / (py * y + px * x)"
   ]
  }
 ],
 "metadata": {
  "kernelspec": {
   "display_name": "py_lib",
   "language": "python",
   "name": "python3"
  },
  "language_info": {
   "codemirror_mode": {
    "name": "ipython",
    "version": 3
   },
   "file_extension": ".py",
   "mimetype": "text/x-python",
   "name": "python",
   "nbconvert_exporter": "python",
   "pygments_lexer": "ipython3",
   "version": "3.10.10"
  },
  "vscode": {
   "interpreter": {
    "hash": "b58ddda4ee3d923807c0aea94e8b8fd89103f671af2242764eea3677b944ffd1"
   }
  }
 },
 "nbformat": 4,
 "nbformat_minor": 5
}
