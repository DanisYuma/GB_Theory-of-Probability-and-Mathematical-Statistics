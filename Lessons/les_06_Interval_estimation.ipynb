{
 "cells": [
  {
   "cell_type": "code",
   "execution_count": 1,
   "id": "9ddbfc94",
   "metadata": {},
   "outputs": [],
   "source": [
    "# Δ± 𝑡_(𝛼/2)∗ 𝑆_Δ , где Δ= (𝑋_1 ) ̅− (𝑋_2 ) ̅\n",
    "# 𝐷=1/2(𝐷_1+𝐷_2), где   𝐷_1 и 𝐷_2 – дисперсии обеих групп\n",
    "# 𝑆_Δ=√(𝐷/𝑛_1 +𝐷/𝑛_2 ), где 𝑛_1 и  𝑛_2 – объемы выборок.\n",
    "# 𝑑𝑓 = 2∗(𝑛−1), где n- объем \n",
    "\n",
    "# Оценить различие в росте между двумя средними арифметическими популяции a  и b с помощью 95% доверительного интервала.\n",
    "\n",
    "import numpy as np\n",
    "import scipy.stats as stats\n"
   ]
  },
  {
   "cell_type": "code",
   "execution_count": 2,
   "id": "6487de10",
   "metadata": {},
   "outputs": [
    {
     "name": "stdout",
     "output_type": "stream",
     "text": [
      "10 10\n"
     ]
    }
   ],
   "source": [
    "a = np.array([178, 184, 149, 193, 186, 173, 169, 175, 159, 174])\n",
    "b = np.array([150, 154, 167, 165, 171, 150, 158, 170, 175, 160])\n",
    "\n",
    "print(len(a), len(b))"
   ]
  },
  {
   "cell_type": "code",
   "execution_count": 3,
   "id": "3885a14a",
   "metadata": {},
   "outputs": [
    {
     "name": "stdout",
     "output_type": "stream",
     "text": [
      "174.0 162.0\n"
     ]
    }
   ],
   "source": [
    "x_1 = np.mean(a)\n",
    "x_2 = np.mean(b)\n",
    "print(x_1, x_2)"
   ]
  },
  {
   "cell_type": "code",
   "execution_count": 4,
   "id": "5aafb3f4",
   "metadata": {},
   "outputs": [
    {
     "name": "stdout",
     "output_type": "stream",
     "text": [
      "12.0\n"
     ]
    }
   ],
   "source": [
    "delta = x_1 - x_2\n",
    "print(delta)"
   ]
  },
  {
   "cell_type": "code",
   "execution_count": 6,
   "id": "1538bf98",
   "metadata": {},
   "outputs": [
    {
     "name": "stdout",
     "output_type": "stream",
     "text": [
      "123.22222222222223\n"
     ]
    }
   ],
   "source": [
    "d1 = np.var(a, ddof=1)\n",
    "d2 = np.var(b, ddof=1)\n",
    "d = (d1 + d2) / 2\n",
    "print(d)"
   ]
  },
  {
   "cell_type": "code",
   "execution_count": 7,
   "id": "d691b1d1",
   "metadata": {},
   "outputs": [
    {
     "name": "stdout",
     "output_type": "stream",
     "text": [
      "4.964317117635058\n"
     ]
    }
   ],
   "source": [
    "se = np.sqrt(d / len(a) + d / len(b))\n",
    "print(se)"
   ]
  },
  {
   "cell_type": "code",
   "execution_count": 9,
   "id": "d89db929",
   "metadata": {},
   "outputs": [
    {
     "name": "stdout",
     "output_type": "stream",
     "text": [
      "2.10092204024096\n"
     ]
    }
   ],
   "source": [
    "t = stats.t.ppf(0.975, 18)\n",
    "print(t)"
   ]
  },
  {
   "cell_type": "code",
   "execution_count": 10,
   "id": "84383ecd",
   "metadata": {},
   "outputs": [
    {
     "name": "stdout",
     "output_type": "stream",
     "text": [
      "1.570356752815032 22.42964324718497\n"
     ]
    }
   ],
   "source": [
    "l = delta - t * se\n",
    "u = delta + t * se\n",
    "print(l, u)"
   ]
  }
 ],
 "metadata": {
  "kernelspec": {
   "display_name": "py_lib",
   "language": "python",
   "name": "python3"
  },
  "language_info": {
   "codemirror_mode": {
    "name": "ipython",
    "version": 3
   },
   "file_extension": ".py",
   "mimetype": "text/x-python",
   "name": "python",
   "nbconvert_exporter": "python",
   "pygments_lexer": "ipython3",
   "version": "3.10.9"
  },
  "vscode": {
   "interpreter": {
    "hash": "b58ddda4ee3d923807c0aea94e8b8fd89103f671af2242764eea3677b944ffd1"
   }
  }
 },
 "nbformat": 4,
 "nbformat_minor": 5
}
