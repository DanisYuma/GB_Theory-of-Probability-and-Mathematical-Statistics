{
 "cells": [
  {
   "attachments": {},
   "cell_type": "markdown",
   "id": "443abb22",
   "metadata": {},
   "source": [
    "Расчет коэффициентов по формулам\n",
    "\n",
    "𝑏=  (𝑛∑_(𝑖=1)^𝑛▒〖𝑥_𝑖 𝑦_𝑖−(∑_(𝑖=1)^𝑛▒𝑥_𝑖 )(∑_(𝑖=1)^𝑛▒𝑦_𝑖 )〗)/(𝑛∑_(𝑖=1)^𝑛▒〖𝑥_𝑖〗_^2 −〖(∑_(𝑖=1)^𝑛▒𝑥_𝑖 )〗^2 )\n",
    "𝑎= 𝑦 ̅−b𝑥 ̅\n",
    "𝑦 ̅=(∑_(𝑖=1)^𝑛▒𝑦_𝑖 )/𝑛\n",
    "𝑥 ̅=(∑_(𝑖=1)^𝑛▒𝑥_𝑖 )/𝑛\n",
    "Получим модель вида 𝑦 ̂=0.1715 + 0. 0387∗𝑥   для случайных величин цена и площадь"
   ]
  },
  {
   "cell_type": "code",
   "execution_count": 1,
   "id": "9ddbfc94",
   "metadata": {},
   "outputs": [],
   "source": [
    "\n",
    "import numpy as np\n",
    "import matplotlib.pyplot as plt\n",
    "from scipy import stats"
   ]
  },
  {
   "cell_type": "code",
   "execution_count": 2,
   "id": "6487de10",
   "metadata": {},
   "outputs": [
    {
     "name": "stdout",
     "output_type": "stream",
     "text": [
      "[27 37 42 48 57 56 77 80]\n",
      "[1.2 1.6 1.8 1.8 2.5 2.6 3.  3.3]\n"
     ]
    }
   ],
   "source": [
    "s = np.array([27, 37, 42, 48, 57, 56, 77, 80])\n",
    "p = np.array([1.2, 1.6, 1.8, 1.8, 2.5, 2.6, 3, 3.3])\n",
    "print(s)\n",
    "print(p)"
   ]
  },
  {
   "cell_type": "code",
   "execution_count": 3,
   "id": "d61f4128",
   "metadata": {},
   "outputs": [
    {
     "name": "stdout",
     "output_type": "stream",
     "text": [
      "0.03874584717607981 0.17147009966776983\n"
     ]
    }
   ],
   "source": [
    "n = len(s)\n",
    "b1 = (np.mean(s*p) - np.mean(s) * np.mean(p)) / (np.mean(s ** 2) - np.mean(s) ** 2)\n",
    "b0 = np.mean(p) - b1 * np.mean(s)\n",
    "print(b1, b0)\n",
    "\n"
   ]
  },
  {
   "attachments": {},
   "cell_type": "markdown",
   "id": "43b45987",
   "metadata": {},
   "source": [
    "Функция потерь 𝑚𝑠𝑒 - мера измерения ошибок, которые функция делает на нашем наборе данных\n",
    "\n",
    "𝑚𝑠𝑒=(∑1▒〖(𝑦−𝑦_𝑝𝑟𝑒𝑑)〗^2 )/𝑛\n",
    "𝑛 – число измерений"
   ]
  },
  {
   "cell_type": "code",
   "execution_count": null,
   "id": "58aff139",
   "metadata": {},
   "outputs": [],
   "source": [
    "# mse = ((p - y_pred) ** 2).sum() / n "
   ]
  },
  {
   "cell_type": "code",
   "execution_count": 15,
   "id": "5aafb3f4",
   "metadata": {},
   "outputs": [],
   "source": [
    "from sklearn.linear_model import LinearRegression\n",
    "model = LinearRegression\n",
    "s = s.reshape(-1, 1)\n",
    "p = p.reshape(-1, 1)\n",
    "# regres = model.fit(s,p)\n"
   ]
  },
  {
   "cell_type": "code",
   "execution_count": 16,
   "id": "09d79473",
   "metadata": {},
   "outputs": [
    {
     "ename": "TypeError",
     "evalue": "LinearModel.predict() missing 1 required positional argument: 'X'",
     "output_type": "error",
     "traceback": [
      "\u001b[1;31m---------------------------------------------------------------------------\u001b[0m",
      "\u001b[1;31mTypeError\u001b[0m                                 Traceback (most recent call last)",
      "Cell \u001b[1;32mIn[16], line 1\u001b[0m\n\u001b[1;32m----> 1\u001b[0m y_pred \u001b[39m=\u001b[39m model\u001b[39m.\u001b[39;49mpredict(s)\n",
      "\u001b[1;31mTypeError\u001b[0m: LinearModel.predict() missing 1 required positional argument: 'X'"
     ]
    }
   ],
   "source": [
    "y_pred = model.predict(s)"
   ]
  }
 ],
 "metadata": {
  "kernelspec": {
   "display_name": "py_lib",
   "language": "python",
   "name": "python3"
  },
  "language_info": {
   "codemirror_mode": {
    "name": "ipython",
    "version": 3
   },
   "file_extension": ".py",
   "mimetype": "text/x-python",
   "name": "python",
   "nbconvert_exporter": "python",
   "pygments_lexer": "ipython3",
   "version": "3.10.10"
  },
  "vscode": {
   "interpreter": {
    "hash": "b58ddda4ee3d923807c0aea94e8b8fd89103f671af2242764eea3677b944ffd1"
   }
  }
 },
 "nbformat": 4,
 "nbformat_minor": 5
}
