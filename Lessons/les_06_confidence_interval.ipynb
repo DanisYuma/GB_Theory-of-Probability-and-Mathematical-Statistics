{
 "cells": [
  {
   "cell_type": "code",
   "execution_count": 23,
   "id": "9ddbfc94",
   "metadata": {},
   "outputs": [],
   "source": [
    "import numpy as np\n",
    "import scipy.stats as stats\n",
    "# Дана выборка, состоящая из роста 10 человек. Оценить средний рост в данной популяции с помощью 95% интервала.\n",
    "\n",
    "# Х ̅±𝑡_(𝛼/2)∗𝜎/√𝑛"
   ]
  },
  {
   "cell_type": "code",
   "execution_count": 24,
   "id": "6487de10",
   "metadata": {},
   "outputs": [
    {
     "name": "stdout",
     "output_type": "stream",
     "text": [
      "174.0\n"
     ]
    }
   ],
   "source": [
    "a = np.array([178, 184, 149, 193, 186, 173, 169, 175, 159, 174])\n",
    "x_1 = np.mean(a)\n",
    "print(x_1)"
   ]
  },
  {
   "cell_type": "code",
   "execution_count": 25,
   "id": "3885a14a",
   "metadata": {},
   "outputs": [
    {
     "name": "stdout",
     "output_type": "stream",
     "text": [
      "10\n"
     ]
    }
   ],
   "source": [
    "n = len(a)\n",
    "print(n)"
   ]
  },
  {
   "cell_type": "code",
   "execution_count": 26,
   "id": "5aafb3f4",
   "metadata": {},
   "outputs": [
    {
     "name": "stdout",
     "output_type": "stream",
     "text": [
      "166.44444444444446\n"
     ]
    }
   ],
   "source": [
    "d = np.var(a, ddof=1)\n",
    "print(d)"
   ]
  },
  {
   "cell_type": "code",
   "execution_count": 27,
   "id": "1538bf98",
   "metadata": {},
   "outputs": [
    {
     "name": "stdout",
     "output_type": "stream",
     "text": [
      "2.2621571627409915\n"
     ]
    }
   ],
   "source": [
    "t1 = stats.t.ppf (0.975, 9)\n",
    "print(t1)"
   ]
  },
  {
   "cell_type": "code",
   "execution_count": 28,
   "id": "d89db929",
   "metadata": {},
   "outputs": [
    {
     "name": "stdout",
     "output_type": "stream",
     "text": [
      "(164.77094092110704, 183.22905907889296)\n"
     ]
    }
   ],
   "source": [
    "ci = (x_1 - t1 * np.sqrt(d / n), x_1 + t1 * np.sqrt(d / n))\n",
    "print(ci)"
   ]
  },
  {
   "cell_type": "code",
   "execution_count": 29,
   "id": "84383ecd",
   "metadata": {},
   "outputs": [
    {
     "name": "stdout",
     "output_type": "stream",
     "text": [
      "(164.77094092110704, 183.22905907889296)\n"
     ]
    }
   ],
   "source": [
    "ci = (x_1 - t1 * np.sqrt(d / n), x_1 + t1 * np.sqrt(d / n))\n",
    "print(ci)"
   ]
  }
 ],
 "metadata": {
  "kernelspec": {
   "display_name": "py_lib",
   "language": "python",
   "name": "python3"
  },
  "language_info": {
   "codemirror_mode": {
    "name": "ipython",
    "version": 3
   },
   "file_extension": ".py",
   "mimetype": "text/x-python",
   "name": "python",
   "nbconvert_exporter": "python",
   "pygments_lexer": "ipython3",
   "version": "3.10.9"
  },
  "vscode": {
   "interpreter": {
    "hash": "b58ddda4ee3d923807c0aea94e8b8fd89103f671af2242764eea3677b944ffd1"
   }
  }
 },
 "nbformat": 4,
 "nbformat_minor": 5
}
