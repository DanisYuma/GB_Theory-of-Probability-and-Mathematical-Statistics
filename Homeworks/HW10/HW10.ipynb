{
 "cells": [
  {
   "cell_type": "code",
   "execution_count": 1,
   "id": "1f2f6611",
   "metadata": {},
   "outputs": [],
   "source": [
    "import pandas as pd\n",
    "import numpy as np"
   ]
  },
  {
   "cell_type": "markdown",
   "id": "de66a26d",
   "metadata": {},
   "source": [
    "Провести дисперсионный анализ для определения того, есть ли различия среднего роста среди взрослых футболистов, хоккеистов и штангистов. Даны значения роста в трех группах случайно выбранных спортсменов: Футболисты: 173, 175, 180, 178, 177, 185, 183, 182. Хоккеисты: 177, 179, 180, 188, 177, 172, 171, 184, 180. Штангисты: 172, 173, 169, 177, 166, 180, 178, 177, 172, 166, 170."
   ]
  },
  {
   "cell_type": "code",
   "execution_count": 2,
   "id": "63fc1a30",
   "metadata": {},
   "outputs": [],
   "source": [
    "footballers = np.array([173, 175, 180, 178, 177, 185, 183, 182])\n",
    "hockey_players = np.array([177, 179, 180, 188, 177, 172, 171, 184, 180])\n",
    "weightlifters = np.array([172, 173, 169, 177, 166, 180, 178, 177, 172, 166, 170])"
   ]
  },
  {
   "cell_type": "code",
   "execution_count": 3,
   "id": "e97671b5",
   "metadata": {},
   "outputs": [
    {
     "data": {
      "text/plain": [
       "179.125"
      ]
     },
     "execution_count": 3,
     "metadata": {},
     "output_type": "execute_result"
    }
   ],
   "source": [
    "f_mean = footballers.mean()\n",
    "f_mean"
   ]
  },
  {
   "cell_type": "code",
   "execution_count": 4,
   "id": "e19f30ab",
   "metadata": {},
   "outputs": [
    {
     "data": {
      "text/plain": [
       "178.66666666666666"
      ]
     },
     "execution_count": 4,
     "metadata": {},
     "output_type": "execute_result"
    }
   ],
   "source": [
    "h_mean = hockey_players.mean()\n",
    "h_mean"
   ]
  },
  {
   "cell_type": "code",
   "execution_count": 5,
   "id": "0f8755ae",
   "metadata": {},
   "outputs": [
    {
     "data": {
      "text/plain": [
       "172.72727272727272"
      ]
     },
     "execution_count": 5,
     "metadata": {},
     "output_type": "execute_result"
    }
   ],
   "source": [
    "w_mean = weightlifters.mean()\n",
    "w_mean"
   ]
  },
  {
   "cell_type": "code",
   "execution_count": 6,
   "id": "19af5f1f",
   "metadata": {},
   "outputs": [
    {
     "data": {
      "text/plain": [
       "176.46428571428572"
      ]
     },
     "execution_count": 6,
     "metadata": {},
     "output_type": "execute_result"
    }
   ],
   "source": [
    "height = np.hstack((footballers,hockey_players, weightlifters))\n",
    "height_mean = height.mean()\n",
    "height_mean"
   ]
  },
  {
   "cell_type": "code",
   "execution_count": 12,
   "id": "ccf8be51",
   "metadata": {},
   "outputs": [
    {
     "data": {
      "text/plain": [
       "830.9642857142854"
      ]
     },
     "execution_count": 12,
     "metadata": {},
     "output_type": "execute_result"
    }
   ],
   "source": [
    "s = np.sum((height - height_mean) ** 2)\n",
    "s"
   ]
  },
  {
   "cell_type": "code",
   "execution_count": 14,
   "id": "b62d5e07",
   "metadata": {},
   "outputs": [
    {
     "data": {
      "text/plain": [
       "253.9074675324678"
      ]
     },
     "execution_count": 14,
     "metadata": {},
     "output_type": "execute_result"
    }
   ],
   "source": [
    "s_f = (f_mean - height_mean) ** 2 * len(footballers) + (h_mean - height_mean) ** 2 * len(hockey_players) + (w_mean - height_mean) ** 2 * len(weightlifters)\n",
    "s_f"
   ]
  },
  {
   "cell_type": "code",
   "execution_count": 15,
   "id": "ceb7cda5",
   "metadata": {},
   "outputs": [
    {
     "data": {
      "text/plain": [
       "577.0568181818182"
      ]
     },
     "execution_count": 15,
     "metadata": {},
     "output_type": "execute_result"
    }
   ],
   "source": [
    "s_ost = np.sum((footballers - f_mean) ** 2) + np.sum((hockey_players - h_mean) ** 2) + np.sum((weightlifters - w_mean) ** 2)\n",
    "s_ost"
   ]
  },
  {
   "cell_type": "code",
   "execution_count": 16,
   "id": "c72d8aae",
   "metadata": {},
   "outputs": [
    {
     "data": {
      "text/plain": [
       "830.964285714286"
      ]
     },
     "execution_count": 16,
     "metadata": {},
     "output_type": "execute_result"
    }
   ],
   "source": [
    "s_ost + s_f"
   ]
  },
  {
   "cell_type": "code",
   "execution_count": 18,
   "id": "1ad0ba5d",
   "metadata": {},
   "outputs": [
    {
     "data": {
      "text/plain": [
       "30.776455026455015"
      ]
     },
     "execution_count": 18,
     "metadata": {},
     "output_type": "execute_result"
    }
   ],
   "source": [
    "d = s / (len(height) - 1)\n",
    "d"
   ]
  },
  {
   "cell_type": "code",
   "execution_count": 19,
   "id": "effb2803",
   "metadata": {},
   "outputs": [
    {
     "data": {
      "text/plain": [
       "126.9537337662339"
      ]
     },
     "execution_count": 19,
     "metadata": {},
     "output_type": "execute_result"
    }
   ],
   "source": [
    "d_f = s_f / (3 - 1)\n",
    "d_f"
   ]
  },
  {
   "cell_type": "code",
   "execution_count": 20,
   "id": "fd5a8666",
   "metadata": {},
   "outputs": [
    {
     "data": {
      "text/plain": [
       "23.08227272727273"
      ]
     },
     "execution_count": 20,
     "metadata": {},
     "output_type": "execute_result"
    }
   ],
   "source": [
    "d_ost = s_ost / (len(height) - 3)\n",
    "d_ost"
   ]
  },
  {
   "cell_type": "code",
   "execution_count": 21,
   "id": "ac5dd249",
   "metadata": {},
   "outputs": [
    {
     "data": {
      "text/plain": [
       "5.500053450812598"
      ]
     },
     "execution_count": 21,
     "metadata": {},
     "output_type": "execute_result"
    }
   ],
   "source": [
    "f_n = d_f / d_ost\n",
    "f_n"
   ]
  },
  {
   "cell_type": "code",
   "execution_count": 22,
   "id": "c2f4bbd7",
   "metadata": {},
   "outputs": [
    {
     "data": {
      "text/plain": [
       "28"
      ]
     },
     "execution_count": 22,
     "metadata": {},
     "output_type": "execute_result"
    }
   ],
   "source": [
    "len(height)"
   ]
  },
  {
   "cell_type": "code",
   "execution_count": 23,
   "id": "42903686",
   "metadata": {},
   "outputs": [
    {
     "data": {
      "text/plain": [
       "(2, 25)"
      ]
     },
     "execution_count": 23,
     "metadata": {},
     "output_type": "execute_result"
    }
   ],
   "source": [
    "alpha = 0.05\n",
    "d_f1 = 3 - 1\n",
    "d_f2 = len(height) - 3\n",
    "d_f1, d_f2"
   ]
  },
  {
   "cell_type": "code",
   "execution_count": 26,
   "id": "283c96e0",
   "metadata": {},
   "outputs": [
    {
     "data": {
      "text/plain": [
       "False"
      ]
     },
     "execution_count": 26,
     "metadata": {},
     "output_type": "execute_result"
    }
   ],
   "source": [
    "f_f = 3.4928\n",
    "f_f > f_n"
   ]
  },
  {
   "cell_type": "markdown",
   "id": "93ad27e4",
   "metadata": {},
   "source": [
    "Есть различие между выборками"
   ]
  }
 ],
 "metadata": {
  "kernelspec": {
   "display_name": "Python 3 (ipykernel)",
   "language": "python",
   "name": "python3"
  },
  "language_info": {
   "codemirror_mode": {
    "name": "ipython",
    "version": 3
   },
   "file_extension": ".py",
   "mimetype": "text/x-python",
   "name": "python",
   "nbconvert_exporter": "python",
   "pygments_lexer": "ipython3",
   "version": "3.9.13"
  }
 },
 "nbformat": 4,
 "nbformat_minor": 5
}
