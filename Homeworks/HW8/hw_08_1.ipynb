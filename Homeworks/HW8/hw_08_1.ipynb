{
 "cells": [
  {
   "attachments": {},
   "cell_type": "markdown",
   "id": "b01dd172",
   "metadata": {},
   "source": [
    "Даны значения величины заработной платы заемщиков банка (zp) и значения их поведенческого кредитного скоринга (ks): zp = [35, 45, 190, 200, 40, 70, 54, 150, 120, 110], ks = [401, 574, 874, 919, 459, 739, 653, 902, 746, 832]. Найдите ковариацию этих двух величин с помощью элементарных действий, а затем с помощью функции cov из numpy Полученные значения должны быть равны. Найдите коэффициент корреляции Пирсона с помощью ковариации и среднеквадратичных отклонений двух признаков, а затем с использованием функций из библиотек numpy и pandas."
   ]
  },
  {
   "cell_type": "code",
   "execution_count": 2,
   "id": "9ddbfc94",
   "metadata": {},
   "outputs": [],
   "source": [
    "import numpy as np\n",
    "import matplotlib.pyplot as plt"
   ]
  },
  {
   "cell_type": "code",
   "execution_count": 3,
   "id": "6487de10",
   "metadata": {},
   "outputs": [
    {
     "data": {
      "text/plain": [
       "(array([ 35,  45, 190, 200,  40,  70,  54, 150, 120, 110]),\n",
       " array([401, 574, 874, 919, 459, 739, 653, 902, 746, 832]))"
      ]
     },
     "execution_count": 3,
     "metadata": {},
     "output_type": "execute_result"
    }
   ],
   "source": [
    "zp = np.array([35, 45, 190, 200, 40, 70, 54, 150, 120, 110])\n",
    "ks = np.array([401, 574, 874, 919, 459, 739, 653, 902, 746, 832])\n",
    "zp, ks"
   ]
  },
  {
   "cell_type": "code",
   "execution_count": 4,
   "id": "029be8d2",
   "metadata": {},
   "outputs": [
    {
     "name": "stdout",
     "output_type": "stream",
     "text": [
      "9157.839999999997\n"
     ]
    },
    {
     "data": {
      "text/plain": [
       "array([[ 3882.93333333, 10175.37777778],\n",
       "       [10175.37777778, 33854.32222222]])"
      ]
     },
     "execution_count": 4,
     "metadata": {},
     "output_type": "execute_result"
    }
   ],
   "source": [
    "cov = np.mean(zp * ks) - np.mean(zp) * np.mean(ks)\n",
    "print(cov)\n",
    "np.cov(zp, ks)"
   ]
  },
  {
   "cell_type": "code",
   "execution_count": 6,
   "id": "5aafb3f4",
   "metadata": {},
   "outputs": [
    {
     "data": {
      "text/plain": [
       "array([[1.        , 0.88749009],\n",
       "       [0.88749009, 1.        ]])"
      ]
     },
     "execution_count": 6,
     "metadata": {},
     "output_type": "execute_result"
    }
   ],
   "source": [
    "np.corrcoef(zp, ks)"
   ]
  },
  {
   "cell_type": "code",
   "execution_count": 7,
   "id": "308e8e88",
   "metadata": {},
   "outputs": [
    {
     "data": {
      "text/plain": [
       "array([[ 3882.93333333, 10175.37777778],\n",
       "       [10175.37777778, 33854.32222222]])"
      ]
     },
     "execution_count": 7,
     "metadata": {},
     "output_type": "execute_result"
    }
   ],
   "source": [
    "np.cov(zp, ks, ddof=1)"
   ]
  },
  {
   "cell_type": "code",
   "execution_count": 10,
   "id": "d9826fe0",
   "metadata": {},
   "outputs": [
    {
     "data": {
      "text/plain": [
       "62.31318747531162"
      ]
     },
     "execution_count": 10,
     "metadata": {},
     "output_type": "execute_result"
    }
   ],
   "source": [
    "np.std(zp, ddof=1)"
   ]
  },
  {
   "cell_type": "code",
   "execution_count": 11,
   "id": "1233e81c",
   "metadata": {},
   "outputs": [
    {
     "data": {
      "text/plain": [
       "183.99544076477068"
      ]
     },
     "execution_count": 11,
     "metadata": {},
     "output_type": "execute_result"
    }
   ],
   "source": [
    "np.std(ks, ddof=1)"
   ]
  },
  {
   "cell_type": "code",
   "execution_count": 12,
   "id": "c1d1890a",
   "metadata": {},
   "outputs": [
    {
     "data": {
      "text/plain": [
       "0.88749009207411"
      ]
     },
     "execution_count": 12,
     "metadata": {},
     "output_type": "execute_result"
    }
   ],
   "source": [
    "10175.37777778 / (62.31318747531162 * 183.99544076477068)"
   ]
  },
  {
   "attachments": {},
   "cell_type": "markdown",
   "id": "53fe9490",
   "metadata": {},
   "source": [
    "Значения одинаковые"
   ]
  },
  {
   "attachments": {},
   "cell_type": "markdown",
   "id": "97ad8325",
   "metadata": {},
   "source": [
    "Но я не понял что это значит"
   ]
  }
 ],
 "metadata": {
  "kernelspec": {
   "display_name": "py_lib",
   "language": "python",
   "name": "python3"
  },
  "language_info": {
   "codemirror_mode": {
    "name": "ipython",
    "version": 3
   },
   "file_extension": ".py",
   "mimetype": "text/x-python",
   "name": "python",
   "nbconvert_exporter": "python",
   "pygments_lexer": "ipython3",
   "version": "3.10.10"
  },
  "vscode": {
   "interpreter": {
    "hash": "b58ddda4ee3d923807c0aea94e8b8fd89103f671af2242764eea3677b944ffd1"
   }
  }
 },
 "nbformat": 4,
 "nbformat_minor": 5
}
