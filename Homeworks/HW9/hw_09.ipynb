{
 "cells": [
  {
   "attachments": {},
   "cell_type": "markdown",
   "id": "de6ff4a4",
   "metadata": {},
   "source": [
    "1. Даны значения величины заработной платы заемщиков банка (zp) и значения их поведенческого кредитного скоринга (ks): zp = [35, 45, 190, 200, 40, 70, 54, 150, 120, 110], ks = [401, 574, 874, 919, 459, 739, 653, 902, 746, 832]. Используя математические операции, посчитать коэффициенты линейной регрессии, приняв за X заработную плату (то есть, zp - признак), а за y - значения скорингового балла (то есть, ks - целевая переменная). Произвести расчет как с использованием intercept, так и без."
   ]
  },
  {
   "cell_type": "code",
   "execution_count": 1,
   "id": "9ddbfc94",
   "metadata": {},
   "outputs": [],
   "source": [
    "import numpy as np\n",
    "import matplotlib.pyplot as plt\n",
    "from scipy import stats\n",
    "from sklearn.linear_model import LinearRegression"
   ]
  },
  {
   "cell_type": "code",
   "execution_count": 2,
   "id": "3da3d6b7",
   "metadata": {},
   "outputs": [],
   "source": [
    "zp = np.array([35, 45, 190, 200, 40, 70, 54, 150, 120, 110]) \n",
    "ks = np.array([401, 574, 874, 919, 459, 739, 653, 902, 746, 832])"
   ]
  },
  {
   "cell_type": "code",
   "execution_count": 3,
   "id": "8cdb7eee",
   "metadata": {},
   "outputs": [
    {
     "data": {
      "text/plain": [
       "10"
      ]
     },
     "execution_count": 3,
     "metadata": {},
     "output_type": "execute_result"
    }
   ],
   "source": [
    "n = len(ks)\n",
    "n"
   ]
  },
  {
   "cell_type": "code",
   "execution_count": 4,
   "id": "ef39fd04",
   "metadata": {},
   "outputs": [
    {
     "data": {
      "text/plain": [
       "(2.620538882402765, 444.1773573243596)"
      ]
     },
     "execution_count": 4,
     "metadata": {},
     "output_type": "execute_result"
    }
   ],
   "source": [
    "b1 = (np.mean(zp * ks) - np.mean(zp) * np.mean(ks)) / (np.mean(zp ** 2) - np.mean(zp) ** 2)\n",
    "b0 = np.mean(ks) - b1 * np.mean(zp)\n",
    "b1, b0"
   ]
  },
  {
   "attachments": {},
   "cell_type": "markdown",
   "id": "11eb87bd",
   "metadata": {},
   "source": [
    "2. Посчитать коэффициент линейной регрессии при заработной плате (zp), используя градиентный спуск (без intercept)."
   ]
  },
  {
   "cell_type": "code",
   "execution_count": 5,
   "id": "185c595c",
   "metadata": {},
   "outputs": [],
   "source": [
    "x = np.array([35, 45, 190, 200, 40, 70, 54, 150, 120, 110])         # zp\n",
    "y = np.array([401, 574, 874, 919, 459, 739, 653, 902, 746, 832])    # ks"
   ]
  },
  {
   "cell_type": "code",
   "execution_count": 14,
   "id": "e6a1e24f",
   "metadata": {},
   "outputs": [
    {
     "name": "stdout",
     "output_type": "stream",
     "text": [
      "Iteranion = 0, B1 = 0.2994101, mse = 487072.63368186494\n",
      "Iteranion = 60, B1 = 5.207231604696927, mse = 62935.75508765133\n",
      "Iteranion = 120, B1 = 5.806476360524031, mse = 56612.55387923855\n",
      "Iteranion = 180, B1 = 5.879644114698183, mse = 56518.285081734786\n",
      "Iteranion = 240, B1 = 5.888577893757293, mse = 56516.87968502355\n",
      "Iteranion = 300, B1 = 5.889668707725519, mse = 56516.85873281065\n"
     ]
    }
   ],
   "source": [
    "def mse_(B1, y = y, x = x, n = 10):\n",
    "    return np.sum((B1*x - y) ** 2) / n\n",
    "alpha = 1e-6\n",
    "B1 = 0.1\n",
    "n = 8\n",
    "for i in range (301):\n",
    "    B1 -= alpha * (2/n) * np.sum((B1*x - y) * x)\n",
    "    if i % 60 == 0:\n",
    "        print('Iteranion = {i}, B1 = {B1}, mse = {mse}'.format(i=i, B1=B1, mse=mse_(B1)))"
   ]
  },
  {
   "attachments": {},
   "cell_type": "markdown",
   "id": "3a4ed495",
   "metadata": {},
   "source": [
    "3. Произвести вычисления как в пункте 2, но с вычислением intercept. Учесть, что изменение коэффициентов должно производиться на каждом шаге одновременно (то есть изменение одного коэффициента не должно влиять на изменение другого во время одной итерации).\n",
    "\n",
    "Я не понял разницы, поэтому сделал следующее по лекции решение \"Python для построения линейной регрессии\""
   ]
  },
  {
   "cell_type": "code",
   "execution_count": 16,
   "id": "19fb9cfa",
   "metadata": {},
   "outputs": [
    {
     "name": "stdout",
     "output_type": "stream",
     "text": [
      "coefficient of determination: 0.7876386635293686\n",
      "intercept: 444.17735732435943\n",
      "slope: [2.62053888]\n"
     ]
    }
   ],
   "source": [
    "zp = zp.reshape(-1, 1)\n",
    "\n",
    "model = LinearRegression()\n",
    "model.fit(zp, ks)\n",
    "r_sq = model.score(zp, ks)\n",
    "\n",
    "print('coefficient of determination:', r_sq)\n",
    "print('intercept:', model.intercept_)\n",
    "print('slope:', model.coef_)"
   ]
  },
  {
   "cell_type": "code",
   "execution_count": 18,
   "id": "c2dd996d",
   "metadata": {},
   "outputs": [
    {
     "data": {
      "image/png": "[encoded data removed]",
      "text/plain": [
       "<Figure size 640x480 with 1 Axes>"
      ]
     },
     "metadata": {},
     "output_type": "display_data"
    }
   ],
   "source": [
    "plt.scatter(zp, ks)\n",
    "plt.plot(zp, 444+2.6*zp)\n",
    "plt.show()"
   ]
  }
 ],
 "metadata": {
  "kernelspec": {
   "display_name": "py_lib",
   "language": "python",
   "name": "python3"
  },
  "language_info": {
   "codemirror_mode": {
    "name": "ipython",
    "version": 3
   },
   "file_extension": ".py",
   "mimetype": "text/x-python",
   "name": "python",
   "nbconvert_exporter": "python",
   "pygments_lexer": "ipython3",
   "version": "3.10.10"
  },
  "vscode": {
   "interpreter": {
    "hash": "b58ddda4ee3d923807c0aea94e8b8fd89103f671af2242764eea3677b944ffd1"
   }
  }
 },
 "nbformat": 4,
 "nbformat_minor": 5
}
